{
  "nbformat": 4,
  "nbformat_minor": 0,
  "metadata": {
    "kernelspec": {
      "display_name": "sms_tweet (Python 3)",
      "language": "python",
      "name": "sms_flask"
    },
    "language_info": {
      "codemirror_mode": {
        "name": "ipython",
        "version": 3
      },
      "file_extension": ".py",
      "mimetype": "text/x-python",
      "name": "python",
      "nbconvert_exporter": "python",
      "pygments_lexer": "ipython3",
      "version": "3.7.5"
    },
    "colab": {
      "name": "Copy of ExploreTwitterAPI.ipynb",
      "provenance": [],
      "collapsed_sections": [],
      "include_colab_link": true
    }
  },
  "cells": [
    {
      "cell_type": "markdown",
      "metadata": {
        "id": "view-in-github",
        "colab_type": "text"
      },
      "source": [
        "<a href=\"https://colab.research.google.com/github/gptix/flask-test/blob/master/Copy_of_ExploreTwitterAPI.ipynb\" target=\"_parent\"><img src=\"https://colab.research.google.com/assets/colab-badge.svg\" alt=\"Open In Colab\"/></a>"
      ]
    },
    {
      "cell_type": "markdown",
      "metadata": {
        "id": "AsrqgTaqyBDq",
        "colab_type": "text"
      },
      "source": [
        "## This notebook is based on one by Andrew Lowe.\n",
        "I've explored ways to apply functional programming to tasks."
      ]
    },
    {
      "cell_type": "code",
      "metadata": {
        "id": "r7hZMur_wyro",
        "colab_type": "code",
        "colab": {}
      },
      "source": [
        "# !pip install python-dotenv\n",
        "import json \n",
        "import os\n",
        "import tweepy\n",
        "\n",
        "import plotly.express as px\n",
        "import pandas as pd\n",
        "# from dotenv import load_dotenv"
      ],
      "execution_count": 0,
      "outputs": []
    },
    {
      "cell_type": "code",
      "metadata": {
        "id": "rqtIfkE9wyrx",
        "colab_type": "code",
        "colab": {}
      },
      "source": [
        "# TWITTER_API_KEY = get\n",
        "# TWITTER_API_SECRET = from\n",
        "# TWITTER_ACCESS_TOKEN = local\n",
        "# TWITTER_ACCESS_TOKEN_SECRET = file"
      ],
      "execution_count": 0,
      "outputs": []
    },
    {
      "cell_type": "markdown",
      "metadata": {
        "id": "KAFgll9WAtZJ",
        "colab_type": "text"
      },
      "source": [
        "Twitter Account Activity API: https://developer.twitter.com/en/docs/accounts-and-users/subscribe-account-activity/overview "
      ]
    },
    {
      "cell_type": "code",
      "metadata": {
        "id": "ABJmzDNbwyr2",
        "colab_type": "code",
        "outputId": "180e9721-b514-4fc0-ce35-26b49cd84f05",
        "colab": {
          "base_uri": "https://localhost:8080/",
          "height": 54
        }
      },
      "source": [
        "auth = tweepy.OAuthHandler(TWITTER_API_KEY, TWITTER_API_SECRET)\n",
        "auth.set_access_token(TWITTER_ACCESS_TOKEN, TWITTER_ACCESS_TOKEN_SECRET)\n",
        "print(\"AUTH\", auth)\n",
        "api = tweepy.API(auth, wait_on_rate_limit=True)\n",
        "print(\"API\", api)\n",
        "#print(dir(api))"
      ],
      "execution_count": 0,
      "outputs": [
        {
          "output_type": "stream",
          "text": [
            "AUTH <tweepy.auth.OAuthHandler object at 0x7fd7d72e1860>\n",
            "API <tweepy.api.API object at 0x7fd7d9077ac8>\n"
          ],
          "name": "stdout"
        }
      ]
    },
    {
      "cell_type": "code",
      "metadata": {
        "id": "C1-4wR4Vwyr8",
        "colab_type": "code",
        "colab": {}
      },
      "source": [
        "# Get up to 5000 ID's of followers of user passed as val to param.\n",
        "chrisalbon_followers = api.followers_ids('chrisalbon')\n",
        "# his user id is 11518572"
      ],
      "execution_count": 0,
      "outputs": []
    },
    {
      "cell_type": "code",
      "metadata": {
        "id": "rbyMPC09wysB",
        "colab_type": "code",
        "outputId": "2c83d060-3e5c-4d5a-8c05-689dda7e8ed7",
        "colab": {
          "base_uri": "https://localhost:8080/",
          "height": 35
        }
      },
      "source": [
        "len(chrisalbon_followers)"
      ],
      "execution_count": 0,
      "outputs": [
        {
          "output_type": "execute_result",
          "data": {
            "text/plain": [
              "5000"
            ]
          },
          "metadata": {
            "tags": []
          },
          "execution_count": 5
        }
      ]
    },
    {
      "cell_type": "code",
      "metadata": {
        "id": "zxNbecBPwysG",
        "colab_type": "code",
        "outputId": "fd809aab-ce27-4649-b4af-1d58f8b2229b",
        "colab": {
          "base_uri": "https://localhost:8080/",
          "height": 199
        }
      },
      "source": [
        "# The first 10 ids of Chris Albon's followers\n",
        "\n",
        "chrisalbon_followers[:10]\n",
        "# chrisalbon_followers[0]"
      ],
      "execution_count": 0,
      "outputs": [
        {
          "output_type": "execute_result",
          "data": {
            "text/plain": [
              "[926150184890859520,\n",
              " 15009684,\n",
              " 20086660,\n",
              " 935771180,\n",
              " 1238742586430545920,\n",
              " 742730272362270720,\n",
              " 916549362,\n",
              " 1244682367932837888,\n",
              " 19520265,\n",
              " 3298896148]"
            ]
          },
          "metadata": {
            "tags": []
          },
          "execution_count": 9
        }
      ]
    },
    {
      "cell_type": "code",
      "metadata": {
        "id": "GxnQ3s0CwysM",
        "colab_type": "code",
        "colab": {}
      },
      "source": [
        "# Shows all of the content of the .favorites request. \n",
        "\n",
        "test_favorites = api.favorites(id='181923035') # 181923035 => @suehutley"
      ],
      "execution_count": 0,
      "outputs": []
    },
    {
      "cell_type": "code",
      "metadata": {
        "id": "DDexWSx7Jm3z",
        "colab_type": "code",
        "outputId": "7dd3a037-44ec-4a01-826a-2d3ee7ca12de",
        "colab": {
          "base_uri": "https://localhost:8080/",
          "height": 35
        }
      },
      "source": [
        "len(test_favorites)"
      ],
      "execution_count": 0,
      "outputs": [
        {
          "output_type": "execute_result",
          "data": {
            "text/plain": [
              "20"
            ]
          },
          "metadata": {
            "tags": []
          },
          "execution_count": 7
        }
      ]
    },
    {
      "cell_type": "code",
      "metadata": {
        "id": "VMqjSuaBwysS",
        "colab_type": "code",
        "outputId": "701e0fa8-cb9c-4a32-ea14-1f7603019158",
        "colab": {
          "base_uri": "https://localhost:8080/",
          "height": 381
        }
      },
      "source": [
        "# Lets see the favorites of this user in a pretty JSON format\n",
        "\n",
        "public_tweets = api.favorites(id='1429084760') # 1429084760 => @nicktsau\n",
        "\n",
        "def tweet_to_dict(tw):\n",
        "  return json.loads(json.dumps(tw._json))\n",
        "\n",
        "def get_created_at(tw):\n",
        "  return tw.get('created_at')\n",
        "\n",
        "def get_from_tweet(tw, f):\n",
        "  return map(f, tweet_to_dict(tw))\n",
        "\n",
        "for ca in map(tw_to_created_at, public_tweets):\n",
        "  print(ca)\n",
        "\n",
        "# foo = tweet_to_dict(public_tweets[0])"
      ],
      "execution_count": 0,
      "outputs": [
        {
          "output_type": "stream",
          "text": [
            "Mon Mar 30 18:49:53 +0000 2020\n",
            "Mon Mar 30 17:38:39 +0000 2020\n",
            "Mon Mar 30 16:43:25 +0000 2020\n",
            "Mon Mar 30 14:21:12 +0000 2020\n",
            "Mon Mar 30 14:00:14 +0000 2020\n",
            "Mon Mar 30 07:57:28 +0000 2020\n",
            "Mon Mar 30 00:11:46 +0000 2020\n",
            "Sun Mar 29 20:44:33 +0000 2020\n",
            "Sun Mar 29 18:46:48 +0000 2020\n",
            "Sun Mar 29 18:45:42 +0000 2020\n",
            "Sun Mar 29 09:17:42 +0000 2020\n",
            "Sat Mar 28 20:06:55 +0000 2020\n",
            "Sat Mar 28 15:03:07 +0000 2020\n",
            "Sat Mar 28 14:21:26 +0000 2020\n",
            "Sat Mar 28 04:20:55 +0000 2020\n",
            "Sat Mar 28 03:11:29 +0000 2020\n",
            "Sat Mar 28 03:10:02 +0000 2020\n",
            "Sat Mar 28 02:10:52 +0000 2020\n",
            "Sat Mar 28 01:47:48 +0000 2020\n",
            "Fri Mar 27 22:51:10 +0000 2020\n"
          ],
          "name": "stdout"
        }
      ]
    },
    {
      "cell_type": "code",
      "metadata": {
        "id": "w9O4_KbUwysW",
        "colab_type": "code",
        "colab": {}
      },
      "source": [
        "# Function to get the times our users liked content.\n",
        "\n",
        "def followers_from_id(follower_id):\n",
        "    \n",
        "    l = []\n",
        "    \n",
        "    # Loop through the first 10 followers\n",
        "    for followers in follower_id[20:30]:\n",
        "        \n",
        "        \n",
        "        # Try and excepts statement to bipass an error that arises when we call a protected user's information\n",
        "        try:\n",
        "            \n",
        "            favorited_tweets = api.favorites(id=f'{followers}')\n",
        "        \n",
        "            \n",
        "            # Fir each tweet that the follower liked, lets add it to the l string    \n",
        "            for tweet in range(len(favorited_tweets)):\n",
        "\n",
        "                status = favorited_tweets[tweet]\n",
        "\n",
        "                #convert to string\n",
        "                json_str = json.dumps(status._json)\n",
        "\n",
        "                #deserialise string into python object\n",
        "                parsed = json.loads(json_str)\n",
        "                l.append(parsed.get('created_at'))\n",
        "\n",
        "        except tweepy.TweepError:\n",
        "            \n",
        "            pass\n",
        "    \n",
        "#     list_times = [i[11:19] for i in l]\n",
        "    \n",
        "    # Returns a list of the the times that each user liked the last 20 things they liked.\n",
        "    return l"
      ],
      "execution_count": 0,
      "outputs": []
    },
    {
      "cell_type": "code",
      "metadata": {
        "id": "gA1jmo-ZwysZ",
        "colab_type": "code",
        "outputId": "d82a6aee-14d4-4cbc-d04e-d6a07b75ac5e",
        "colab": {
          "base_uri": "https://localhost:8080/",
          "height": 35
        }
      },
      "source": [
        "len(api.followers_ids('chrisalbon')[:10]), len(api.favorites(id=1429084760))"
      ],
      "execution_count": 0,
      "outputs": [
        {
          "output_type": "execute_result",
          "data": {
            "text/plain": [
              "(10, 20)"
            ]
          },
          "metadata": {
            "tags": []
          },
          "execution_count": 15
        }
      ]
    },
    {
      "cell_type": "code",
      "metadata": {
        "id": "7PwAU7Tqwyse",
        "colab_type": "code",
        "outputId": "d7b25c56-09b9-46f6-8817-7ceae2abec86",
        "colab": {
          "base_uri": "https://localhost:8080/",
          "height": 1000
        }
      },
      "source": [
        "# returns the timestamps for the past 20 things liked by 10 of the user's followers. \n",
        "\n",
        "chris_follower_ids = api.followers_ids('chrisalbon')\n",
        "\n",
        "test = followers_from_id(chris_follower_ids)\n",
        "test\n",
        "# len(test)"
      ],
      "execution_count": 0,
      "outputs": [
        {
          "output_type": "execute_result",
          "data": {
            "text/plain": [
              "['Mon Mar 30 19:29:51 +0000 2020',\n",
              " 'Mon Mar 30 19:25:29 +0000 2020',\n",
              " 'Mon Mar 30 18:55:36 +0000 2020',\n",
              " 'Mon Mar 30 17:46:15 +0000 2020',\n",
              " 'Mon Mar 30 17:16:04 +0000 2020',\n",
              " 'Mon Mar 30 15:25:03 +0000 2020',\n",
              " 'Mon Mar 30 15:17:07 +0000 2020',\n",
              " 'Mon Mar 30 14:13:33 +0000 2020',\n",
              " 'Mon Mar 30 14:03:27 +0000 2020',\n",
              " 'Mon Mar 30 12:03:43 +0000 2020',\n",
              " 'Mon Mar 30 11:57:33 +0000 2020',\n",
              " 'Mon Mar 30 11:56:01 +0000 2020',\n",
              " 'Mon Mar 30 11:24:29 +0000 2020',\n",
              " 'Mon Mar 30 11:21:37 +0000 2020',\n",
              " 'Mon Mar 30 10:52:19 +0000 2020',\n",
              " 'Mon Mar 30 10:43:29 +0000 2020',\n",
              " 'Mon Mar 30 10:38:35 +0000 2020',\n",
              " 'Mon Mar 30 10:27:51 +0000 2020',\n",
              " 'Mon Mar 30 10:25:42 +0000 2020',\n",
              " 'Mon Mar 30 10:16:16 +0000 2020',\n",
              " 'Mon Mar 30 20:30:02 +0000 2020',\n",
              " 'Mon Mar 30 20:23:44 +0000 2020',\n",
              " 'Mon Mar 30 19:18:53 +0000 2020',\n",
              " 'Mon Mar 30 17:54:41 +0000 2020',\n",
              " 'Mon Mar 30 17:53:30 +0000 2020',\n",
              " 'Mon Mar 30 17:37:17 +0000 2020',\n",
              " 'Mon Mar 30 15:10:24 +0000 2020',\n",
              " 'Mon Mar 30 14:39:39 +0000 2020',\n",
              " 'Mon Mar 30 13:24:09 +0000 2020',\n",
              " 'Mon Mar 30 13:20:01 +0000 2020',\n",
              " 'Mon Mar 30 13:15:54 +0000 2020',\n",
              " 'Mon Mar 30 13:07:09 +0000 2020',\n",
              " 'Mon Mar 30 12:09:59 +0000 2020',\n",
              " 'Mon Mar 30 09:36:08 +0000 2020',\n",
              " 'Mon Mar 30 09:30:26 +0000 2020',\n",
              " 'Mon Mar 30 09:20:51 +0000 2020',\n",
              " 'Mon Mar 30 06:17:54 +0000 2020',\n",
              " 'Mon Mar 30 05:39:47 +0000 2020',\n",
              " 'Mon Mar 30 02:14:40 +0000 2020',\n",
              " 'Mon Mar 30 00:21:15 +0000 2020',\n",
              " 'Mon Mar 30 13:18:54 +0000 2020',\n",
              " 'Mon Mar 30 13:18:24 +0000 2020',\n",
              " 'Mon Mar 30 13:14:33 +0000 2020',\n",
              " 'Mon Mar 30 11:41:56 +0000 2020',\n",
              " 'Mon Mar 30 07:14:08 +0000 2020',\n",
              " 'Mon Mar 30 07:01:42 +0000 2020',\n",
              " 'Mon Mar 30 06:17:54 +0000 2020',\n",
              " 'Mon Mar 30 05:41:07 +0000 2020',\n",
              " 'Mon Mar 30 04:47:50 +0000 2020',\n",
              " 'Mon Mar 30 00:02:00 +0000 2020',\n",
              " 'Sun Mar 29 22:50:29 +0000 2020',\n",
              " 'Sun Mar 29 22:16:06 +0000 2020',\n",
              " 'Sun Mar 29 22:00:54 +0000 2020',\n",
              " 'Sun Mar 29 21:59:20 +0000 2020',\n",
              " 'Sun Mar 29 21:52:00 +0000 2020',\n",
              " 'Sun Mar 29 21:37:29 +0000 2020',\n",
              " 'Sun Mar 29 21:13:45 +0000 2020',\n",
              " 'Sun Mar 29 21:08:33 +0000 2020',\n",
              " 'Sun Mar 29 20:37:01 +0000 2020',\n",
              " 'Wed Mar 25 12:11:56 +0000 2020',\n",
              " 'Wed Mar 25 01:43:42 +0000 2020',\n",
              " 'Fri Mar 06 06:43:04 +0000 2020',\n",
              " 'Fri Mar 06 00:14:20 +0000 2020',\n",
              " 'Thu Mar 05 13:57:17 +0000 2020',\n",
              " 'Thu Mar 05 12:18:24 +0000 2020',\n",
              " 'Wed Mar 04 07:05:17 +0000 2020',\n",
              " 'Tue Mar 03 00:50:59 +0000 2020',\n",
              " 'Mon Mar 02 06:44:55 +0000 2020',\n",
              " 'Mon Mar 02 06:44:40 +0000 2020',\n",
              " 'Mon Mar 02 06:44:07 +0000 2020',\n",
              " 'Mon Mar 02 06:42:47 +0000 2020',\n",
              " 'Mon Mar 02 06:41:31 +0000 2020',\n",
              " 'Mon Mar 02 06:41:12 +0000 2020',\n",
              " 'Mon Mar 02 06:40:56 +0000 2020',\n",
              " 'Mon Mar 02 06:38:41 +0000 2020',\n",
              " 'Mon Mar 02 06:38:20 +0000 2020',\n",
              " 'Thu Feb 27 08:00:51 +0000 2020',\n",
              " 'Thu Feb 27 01:54:18 +0000 2020',\n",
              " 'Wed Feb 26 13:39:30 +0000 2020',\n",
              " 'Mon Mar 30 21:51:41 +0000 2020',\n",
              " 'Mon Mar 30 21:48:20 +0000 2020',\n",
              " 'Mon Mar 30 20:16:54 +0000 2020',\n",
              " 'Mon Mar 30 19:50:17 +0000 2020',\n",
              " 'Mon Mar 30 18:03:19 +0000 2020',\n",
              " 'Mon Mar 30 01:59:19 +0000 2020',\n",
              " 'Sun Mar 29 19:07:13 +0000 2020',\n",
              " 'Sun Mar 29 15:26:24 +0000 2020',\n",
              " 'Sun Mar 29 08:49:49 +0000 2020',\n",
              " 'Sun Mar 29 08:24:26 +0000 2020',\n",
              " 'Sun Mar 29 04:04:10 +0000 2020',\n",
              " 'Sun Mar 29 03:59:54 +0000 2020',\n",
              " 'Sun Mar 29 03:04:14 +0000 2020',\n",
              " 'Sun Mar 29 01:52:30 +0000 2020',\n",
              " 'Sun Mar 29 01:52:10 +0000 2020',\n",
              " 'Sun Mar 29 01:34:13 +0000 2020',\n",
              " 'Sun Mar 29 01:06:59 +0000 2020',\n",
              " 'Sat Mar 28 21:45:02 +0000 2020',\n",
              " 'Sat Mar 28 21:08:55 +0000 2020',\n",
              " 'Sat Mar 28 19:13:20 +0000 2020',\n",
              " 'Thu Mar 28 19:27:00 +0000 2019',\n",
              " 'Wed Mar 20 14:02:54 +0000 2019',\n",
              " 'Wed Dec 12 18:10:03 +0000 2018',\n",
              " 'Wed Dec 12 17:50:13 +0000 2018',\n",
              " 'Mon Mar 30 19:25:39 +0000 2020',\n",
              " 'Sat Mar 28 00:14:49 +0000 2020',\n",
              " 'Fri Mar 27 15:08:08 +0000 2020',\n",
              " 'Thu Mar 26 19:07:01 +0000 2020',\n",
              " 'Mon Mar 23 20:40:58 +0000 2020',\n",
              " 'Sun Mar 22 20:53:32 +0000 2020',\n",
              " 'Fri Mar 20 14:57:03 +0000 2020',\n",
              " 'Fri Mar 20 14:45:40 +0000 2020',\n",
              " 'Fri Mar 20 08:32:00 +0000 2020',\n",
              " 'Thu Mar 19 12:40:27 +0000 2020',\n",
              " 'Fri Mar 13 20:01:17 +0000 2020',\n",
              " 'Fri Mar 13 16:54:25 +0000 2020',\n",
              " 'Thu Mar 12 04:29:51 +0000 2020',\n",
              " 'Wed Mar 11 14:43:43 +0000 2020',\n",
              " 'Wed Mar 11 13:27:44 +0000 2020',\n",
              " 'Wed Mar 11 12:28:02 +0000 2020',\n",
              " 'Wed Mar 11 00:24:17 +0000 2020',\n",
              " 'Tue Mar 10 21:08:17 +0000 2020',\n",
              " 'Tue Mar 10 19:09:56 +0000 2020',\n",
              " 'Tue Mar 10 18:14:47 +0000 2020',\n",
              " 'Mon Mar 30 20:58:43 +0000 2020',\n",
              " 'Mon Mar 30 20:52:31 +0000 2020',\n",
              " 'Mon Mar 30 20:03:13 +0000 2020',\n",
              " 'Mon Mar 30 19:41:31 +0000 2020',\n",
              " 'Mon Mar 30 18:33:00 +0000 2020',\n",
              " 'Mon Mar 30 18:30:09 +0000 2020',\n",
              " 'Mon Mar 30 18:28:35 +0000 2020',\n",
              " 'Mon Mar 30 18:23:31 +0000 2020',\n",
              " 'Mon Mar 30 18:12:58 +0000 2020',\n",
              " 'Mon Mar 30 18:12:45 +0000 2020',\n",
              " 'Mon Mar 30 17:53:30 +0000 2020',\n",
              " 'Mon Mar 30 17:00:21 +0000 2020',\n",
              " 'Mon Mar 30 16:57:36 +0000 2020',\n",
              " 'Mon Mar 30 16:56:50 +0000 2020',\n",
              " 'Mon Mar 30 16:55:51 +0000 2020',\n",
              " 'Mon Mar 30 16:38:57 +0000 2020',\n",
              " 'Mon Mar 30 16:09:44 +0000 2020',\n",
              " 'Mon Mar 30 16:09:41 +0000 2020',\n",
              " 'Mon Mar 30 15:19:26 +0000 2020',\n",
              " 'Mon Mar 30 14:44:29 +0000 2020']"
            ]
          },
          "metadata": {
            "tags": []
          },
          "execution_count": 16
        }
      ]
    },
    {
      "cell_type": "code",
      "metadata": {
        "id": "_ngnlBFPwysk",
        "colab_type": "code",
        "colab": {}
      },
      "source": [
        "# Function to get the times our users liked content.\n",
        "\n",
        "def datetimes(follower_id):\n",
        "    \n",
        "    l = []\n",
        "    \n",
        "    # Loop through the first 10 followers\n",
        "    for followers in follower_id[20:30]:\n",
        "        \n",
        "        \n",
        "        # Try and excepts statement to bipass an error that arises when we call a protected user's information\n",
        "        try:\n",
        "            \n",
        "            favorited_tweets = api.favorites(id=f'{followers}')\n",
        "        \n",
        "            \n",
        "            # Fir each tweet that the follower liked, lets add it to the l string    \n",
        "            for tweet in range(len(favorited_tweets)):\n",
        "\n",
        "                status = favorited_tweets[tweet]\n",
        "\n",
        "                #convert to string\n",
        "                json_str = json.dumps(status._json)\n",
        "\n",
        "                #deserialise string into python object\n",
        "                parsed = json.loads(json_str)\n",
        "                l.append(parsed.get('created_at'))\n",
        "\n",
        "        except tweepy.TweepError:\n",
        "            \n",
        "            pass\n",
        "        \n",
        "    #list_times = [int(i[11:19]) for i in l]\n",
        "\n",
        "    hours = [int(i[11:13]) for i in l]\n",
        "    mins = [int(i[14:16]) for i in l]\n",
        "    secs = [int(i[17:19]) for i in l]\n",
        "\n",
        "    x = pd.DataFrame(data={'hours': hours, 'mins':mins, 'secs': secs})\n",
        "    # Returns a list of the the times that each user liked the last 20 things they liked.\n",
        "    return x"
      ],
      "execution_count": 0,
      "outputs": []
    },
    {
      "cell_type": "code",
      "metadata": {
        "id": "Gsevry_1wysr",
        "colab_type": "code",
        "colab": {}
      },
      "source": [
        "date_times_chris = datetimes(chris_follower_ids)"
      ],
      "execution_count": 0,
      "outputs": []
    },
    {
      "cell_type": "code",
      "metadata": {
        "id": "_rGMDiMtwysu",
        "colab_type": "code",
        "outputId": "64a88b77-aa65-4161-8838-b33dbad0fc2f",
        "colab": {
          "base_uri": "https://localhost:8080/",
          "height": 407
        }
      },
      "source": [
        "date_times_chris"
      ],
      "execution_count": 0,
      "outputs": [
        {
          "output_type": "execute_result",
          "data": {
            "text/html": [
              "<div>\n",
              "<style scoped>\n",
              "    .dataframe tbody tr th:only-of-type {\n",
              "        vertical-align: middle;\n",
              "    }\n",
              "\n",
              "    .dataframe tbody tr th {\n",
              "        vertical-align: top;\n",
              "    }\n",
              "\n",
              "    .dataframe thead th {\n",
              "        text-align: right;\n",
              "    }\n",
              "</style>\n",
              "<table border=\"1\" class=\"dataframe\">\n",
              "  <thead>\n",
              "    <tr style=\"text-align: right;\">\n",
              "      <th></th>\n",
              "      <th>hours</th>\n",
              "      <th>mins</th>\n",
              "      <th>secs</th>\n",
              "    </tr>\n",
              "  </thead>\n",
              "  <tbody>\n",
              "    <tr>\n",
              "      <th>0</th>\n",
              "      <td>19</td>\n",
              "      <td>29</td>\n",
              "      <td>51</td>\n",
              "    </tr>\n",
              "    <tr>\n",
              "      <th>1</th>\n",
              "      <td>19</td>\n",
              "      <td>25</td>\n",
              "      <td>29</td>\n",
              "    </tr>\n",
              "    <tr>\n",
              "      <th>2</th>\n",
              "      <td>18</td>\n",
              "      <td>55</td>\n",
              "      <td>36</td>\n",
              "    </tr>\n",
              "    <tr>\n",
              "      <th>3</th>\n",
              "      <td>17</td>\n",
              "      <td>46</td>\n",
              "      <td>15</td>\n",
              "    </tr>\n",
              "    <tr>\n",
              "      <th>4</th>\n",
              "      <td>17</td>\n",
              "      <td>16</td>\n",
              "      <td>4</td>\n",
              "    </tr>\n",
              "    <tr>\n",
              "      <th>...</th>\n",
              "      <td>...</td>\n",
              "      <td>...</td>\n",
              "      <td>...</td>\n",
              "    </tr>\n",
              "    <tr>\n",
              "      <th>138</th>\n",
              "      <td>16</td>\n",
              "      <td>38</td>\n",
              "      <td>57</td>\n",
              "    </tr>\n",
              "    <tr>\n",
              "      <th>139</th>\n",
              "      <td>16</td>\n",
              "      <td>9</td>\n",
              "      <td>44</td>\n",
              "    </tr>\n",
              "    <tr>\n",
              "      <th>140</th>\n",
              "      <td>16</td>\n",
              "      <td>9</td>\n",
              "      <td>41</td>\n",
              "    </tr>\n",
              "    <tr>\n",
              "      <th>141</th>\n",
              "      <td>15</td>\n",
              "      <td>19</td>\n",
              "      <td>26</td>\n",
              "    </tr>\n",
              "    <tr>\n",
              "      <th>142</th>\n",
              "      <td>14</td>\n",
              "      <td>44</td>\n",
              "      <td>29</td>\n",
              "    </tr>\n",
              "  </tbody>\n",
              "</table>\n",
              "<p>143 rows × 3 columns</p>\n",
              "</div>"
            ],
            "text/plain": [
              "     hours  mins  secs\n",
              "0       19    29    51\n",
              "1       19    25    29\n",
              "2       18    55    36\n",
              "3       17    46    15\n",
              "4       17    16     4\n",
              "..     ...   ...   ...\n",
              "138     16    38    57\n",
              "139     16     9    44\n",
              "140     16     9    41\n",
              "141     15    19    26\n",
              "142     14    44    29\n",
              "\n",
              "[143 rows x 3 columns]"
            ]
          },
          "metadata": {
            "tags": []
          },
          "execution_count": 19
        }
      ]
    },
    {
      "cell_type": "code",
      "metadata": {
        "id": "1WY04TeUwysy",
        "colab_type": "code",
        "outputId": "674fe32f-4de8-433d-e015-170039c8b2d1",
        "colab": {
          "base_uri": "https://localhost:8080/",
          "height": 542
        }
      },
      "source": [
        "fig = px.line(date_times_chris, x='hours', y='mins')\n",
        "fig.show()"
      ],
      "execution_count": 0,
      "outputs": [
        {
          "output_type": "display_data",
          "data": {
            "text/html": [
              "<html>\n",
              "<head><meta charset=\"utf-8\" /></head>\n",
              "<body>\n",
              "    <div>\n",
              "            <script src=\"https://cdnjs.cloudflare.com/ajax/libs/mathjax/2.7.5/MathJax.js?config=TeX-AMS-MML_SVG\"></script><script type=\"text/javascript\">if (window.MathJax) {MathJax.Hub.Config({SVG: {font: \"STIX-Web\"}});}</script>\n",
              "                <script type=\"text/javascript\">window.PlotlyConfig = {MathJaxConfig: 'local'};</script>\n",
              "        <script src=\"https://cdn.plot.ly/plotly-latest.min.js\"></script>    \n",
              "            <div id=\"918dc1df-dd4f-4969-80cc-27ab3e906342\" class=\"plotly-graph-div\" style=\"height:525px; width:100%;\"></div>\n",
              "            <script type=\"text/javascript\">\n",
              "                \n",
              "                    window.PLOTLYENV=window.PLOTLYENV || {};\n",
              "                    \n",
              "                if (document.getElementById(\"918dc1df-dd4f-4969-80cc-27ab3e906342\")) {\n",
              "                    Plotly.newPlot(\n",
              "                        '918dc1df-dd4f-4969-80cc-27ab3e906342',\n",
              "                        [{\"hoverlabel\": {\"namelength\": 0}, \"hovertemplate\": \"hours=%{x}<br>mins=%{y}\", \"legendgroup\": \"\", \"line\": {\"color\": \"#636efa\", \"dash\": \"solid\"}, \"mode\": \"lines\", \"name\": \"\", \"showlegend\": false, \"type\": \"scatter\", \"x\": [19, 19, 18, 17, 17, 15, 15, 14, 14, 12, 11, 11, 11, 11, 10, 10, 10, 10, 10, 10, 20, 20, 19, 17, 17, 17, 15, 14, 13, 13, 13, 13, 12, 9, 9, 9, 6, 5, 2, 0, 13, 13, 13, 11, 7, 7, 6, 5, 4, 0, 22, 22, 22, 21, 21, 21, 21, 21, 20, 12, 1, 6, 0, 13, 12, 7, 0, 6, 6, 6, 6, 6, 6, 6, 6, 6, 8, 1, 13, 21, 21, 20, 19, 18, 1, 19, 15, 8, 8, 4, 3, 3, 1, 1, 1, 1, 21, 21, 19, 19, 14, 18, 17, 19, 0, 15, 19, 20, 20, 14, 14, 8, 12, 20, 16, 4, 14, 13, 12, 0, 21, 19, 18, 20, 20, 20, 19, 18, 18, 18, 18, 18, 18, 17, 17, 16, 16, 16, 16, 16, 16, 15, 14], \"xaxis\": \"x\", \"y\": [29, 25, 55, 46, 16, 25, 17, 13, 3, 3, 57, 56, 24, 21, 52, 43, 38, 27, 25, 16, 30, 23, 18, 54, 53, 37, 10, 39, 24, 20, 15, 7, 9, 36, 30, 20, 17, 39, 14, 21, 18, 18, 14, 41, 14, 1, 17, 41, 47, 2, 50, 16, 0, 59, 52, 37, 13, 8, 37, 11, 43, 43, 14, 57, 18, 5, 50, 44, 44, 44, 42, 41, 41, 40, 38, 38, 0, 54, 39, 51, 48, 16, 50, 3, 59, 7, 26, 49, 24, 4, 59, 4, 52, 52, 34, 6, 45, 8, 13, 27, 2, 10, 50, 25, 14, 8, 7, 40, 53, 57, 45, 32, 40, 1, 54, 29, 43, 27, 28, 24, 8, 9, 14, 58, 52, 3, 41, 33, 30, 28, 23, 12, 12, 53, 0, 57, 56, 55, 38, 9, 9, 19, 44], \"yaxis\": \"y\"}],\n",
              "                        {\"legend\": {\"tracegroupgap\": 0}, \"margin\": {\"t\": 60}, \"template\": {\"data\": {\"bar\": [{\"error_x\": {\"color\": \"#2a3f5f\"}, \"error_y\": {\"color\": \"#2a3f5f\"}, \"marker\": {\"line\": {\"color\": \"#E5ECF6\", \"width\": 0.5}}, \"type\": \"bar\"}], \"barpolar\": [{\"marker\": {\"line\": {\"color\": \"#E5ECF6\", \"width\": 0.5}}, \"type\": \"barpolar\"}], \"carpet\": [{\"aaxis\": {\"endlinecolor\": \"#2a3f5f\", \"gridcolor\": \"white\", \"linecolor\": \"white\", \"minorgridcolor\": \"white\", \"startlinecolor\": \"#2a3f5f\"}, \"baxis\": {\"endlinecolor\": \"#2a3f5f\", \"gridcolor\": \"white\", \"linecolor\": \"white\", \"minorgridcolor\": \"white\", \"startlinecolor\": \"#2a3f5f\"}, \"type\": \"carpet\"}], \"choropleth\": [{\"colorbar\": {\"outlinewidth\": 0, \"ticks\": \"\"}, \"type\": \"choropleth\"}], \"contour\": [{\"colorbar\": {\"outlinewidth\": 0, \"ticks\": \"\"}, \"colorscale\": [[0.0, \"#0d0887\"], [0.1111111111111111, \"#46039f\"], [0.2222222222222222, \"#7201a8\"], [0.3333333333333333, \"#9c179e\"], [0.4444444444444444, \"#bd3786\"], [0.5555555555555556, \"#d8576b\"], [0.6666666666666666, \"#ed7953\"], [0.7777777777777778, \"#fb9f3a\"], [0.8888888888888888, \"#fdca26\"], [1.0, \"#f0f921\"]], \"type\": \"contour\"}], \"contourcarpet\": [{\"colorbar\": {\"outlinewidth\": 0, \"ticks\": \"\"}, \"type\": \"contourcarpet\"}], \"heatmap\": [{\"colorbar\": {\"outlinewidth\": 0, \"ticks\": \"\"}, \"colorscale\": [[0.0, \"#0d0887\"], [0.1111111111111111, \"#46039f\"], [0.2222222222222222, \"#7201a8\"], [0.3333333333333333, \"#9c179e\"], [0.4444444444444444, \"#bd3786\"], [0.5555555555555556, \"#d8576b\"], [0.6666666666666666, \"#ed7953\"], [0.7777777777777778, \"#fb9f3a\"], [0.8888888888888888, \"#fdca26\"], [1.0, \"#f0f921\"]], \"type\": \"heatmap\"}], \"heatmapgl\": [{\"colorbar\": {\"outlinewidth\": 0, \"ticks\": \"\"}, \"colorscale\": [[0.0, \"#0d0887\"], [0.1111111111111111, \"#46039f\"], [0.2222222222222222, \"#7201a8\"], [0.3333333333333333, \"#9c179e\"], [0.4444444444444444, \"#bd3786\"], [0.5555555555555556, \"#d8576b\"], [0.6666666666666666, \"#ed7953\"], [0.7777777777777778, \"#fb9f3a\"], [0.8888888888888888, \"#fdca26\"], [1.0, \"#f0f921\"]], \"type\": \"heatmapgl\"}], \"histogram\": [{\"marker\": {\"colorbar\": {\"outlinewidth\": 0, \"ticks\": \"\"}}, \"type\": \"histogram\"}], \"histogram2d\": [{\"colorbar\": {\"outlinewidth\": 0, \"ticks\": \"\"}, \"colorscale\": [[0.0, \"#0d0887\"], [0.1111111111111111, \"#46039f\"], [0.2222222222222222, \"#7201a8\"], [0.3333333333333333, \"#9c179e\"], [0.4444444444444444, \"#bd3786\"], [0.5555555555555556, \"#d8576b\"], [0.6666666666666666, \"#ed7953\"], [0.7777777777777778, \"#fb9f3a\"], [0.8888888888888888, \"#fdca26\"], [1.0, \"#f0f921\"]], \"type\": \"histogram2d\"}], \"histogram2dcontour\": [{\"colorbar\": {\"outlinewidth\": 0, \"ticks\": \"\"}, \"colorscale\": [[0.0, \"#0d0887\"], [0.1111111111111111, \"#46039f\"], [0.2222222222222222, \"#7201a8\"], [0.3333333333333333, \"#9c179e\"], [0.4444444444444444, \"#bd3786\"], [0.5555555555555556, \"#d8576b\"], [0.6666666666666666, \"#ed7953\"], [0.7777777777777778, \"#fb9f3a\"], [0.8888888888888888, \"#fdca26\"], [1.0, \"#f0f921\"]], \"type\": \"histogram2dcontour\"}], \"mesh3d\": [{\"colorbar\": {\"outlinewidth\": 0, \"ticks\": \"\"}, \"type\": \"mesh3d\"}], \"parcoords\": [{\"line\": {\"colorbar\": {\"outlinewidth\": 0, \"ticks\": \"\"}}, \"type\": \"parcoords\"}], \"pie\": [{\"automargin\": true, \"type\": \"pie\"}], \"scatter\": [{\"marker\": {\"colorbar\": {\"outlinewidth\": 0, \"ticks\": \"\"}}, \"type\": \"scatter\"}], \"scatter3d\": [{\"line\": {\"colorbar\": {\"outlinewidth\": 0, \"ticks\": \"\"}}, \"marker\": {\"colorbar\": {\"outlinewidth\": 0, \"ticks\": \"\"}}, \"type\": \"scatter3d\"}], \"scattercarpet\": [{\"marker\": {\"colorbar\": {\"outlinewidth\": 0, \"ticks\": \"\"}}, \"type\": \"scattercarpet\"}], \"scattergeo\": [{\"marker\": {\"colorbar\": {\"outlinewidth\": 0, \"ticks\": \"\"}}, \"type\": \"scattergeo\"}], \"scattergl\": [{\"marker\": {\"colorbar\": {\"outlinewidth\": 0, \"ticks\": \"\"}}, \"type\": \"scattergl\"}], \"scattermapbox\": [{\"marker\": {\"colorbar\": {\"outlinewidth\": 0, \"ticks\": \"\"}}, \"type\": \"scattermapbox\"}], \"scatterpolar\": [{\"marker\": {\"colorbar\": {\"outlinewidth\": 0, \"ticks\": \"\"}}, \"type\": \"scatterpolar\"}], \"scatterpolargl\": [{\"marker\": {\"colorbar\": {\"outlinewidth\": 0, \"ticks\": \"\"}}, \"type\": \"scatterpolargl\"}], \"scatterternary\": [{\"marker\": {\"colorbar\": {\"outlinewidth\": 0, \"ticks\": \"\"}}, \"type\": \"scatterternary\"}], \"surface\": [{\"colorbar\": {\"outlinewidth\": 0, \"ticks\": \"\"}, \"colorscale\": [[0.0, \"#0d0887\"], [0.1111111111111111, \"#46039f\"], [0.2222222222222222, \"#7201a8\"], [0.3333333333333333, \"#9c179e\"], [0.4444444444444444, \"#bd3786\"], [0.5555555555555556, \"#d8576b\"], [0.6666666666666666, \"#ed7953\"], [0.7777777777777778, \"#fb9f3a\"], [0.8888888888888888, \"#fdca26\"], [1.0, \"#f0f921\"]], \"type\": \"surface\"}], \"table\": [{\"cells\": {\"fill\": {\"color\": \"#EBF0F8\"}, \"line\": {\"color\": \"white\"}}, \"header\": {\"fill\": {\"color\": \"#C8D4E3\"}, \"line\": {\"color\": \"white\"}}, \"type\": \"table\"}]}, \"layout\": {\"annotationdefaults\": {\"arrowcolor\": \"#2a3f5f\", \"arrowhead\": 0, \"arrowwidth\": 1}, \"coloraxis\": {\"colorbar\": {\"outlinewidth\": 0, \"ticks\": \"\"}}, \"colorscale\": {\"diverging\": [[0, \"#8e0152\"], [0.1, \"#c51b7d\"], [0.2, \"#de77ae\"], [0.3, \"#f1b6da\"], [0.4, \"#fde0ef\"], [0.5, \"#f7f7f7\"], [0.6, \"#e6f5d0\"], [0.7, \"#b8e186\"], [0.8, \"#7fbc41\"], [0.9, \"#4d9221\"], [1, \"#276419\"]], \"sequential\": [[0.0, \"#0d0887\"], [0.1111111111111111, \"#46039f\"], [0.2222222222222222, \"#7201a8\"], [0.3333333333333333, \"#9c179e\"], [0.4444444444444444, \"#bd3786\"], [0.5555555555555556, \"#d8576b\"], [0.6666666666666666, \"#ed7953\"], [0.7777777777777778, \"#fb9f3a\"], [0.8888888888888888, \"#fdca26\"], [1.0, \"#f0f921\"]], \"sequentialminus\": [[0.0, \"#0d0887\"], [0.1111111111111111, \"#46039f\"], [0.2222222222222222, \"#7201a8\"], [0.3333333333333333, \"#9c179e\"], [0.4444444444444444, \"#bd3786\"], [0.5555555555555556, \"#d8576b\"], [0.6666666666666666, \"#ed7953\"], [0.7777777777777778, \"#fb9f3a\"], [0.8888888888888888, \"#fdca26\"], [1.0, \"#f0f921\"]]}, \"colorway\": [\"#636efa\", \"#EF553B\", \"#00cc96\", \"#ab63fa\", \"#FFA15A\", \"#19d3f3\", \"#FF6692\", \"#B6E880\", \"#FF97FF\", \"#FECB52\"], \"font\": {\"color\": \"#2a3f5f\"}, \"geo\": {\"bgcolor\": \"white\", \"lakecolor\": \"white\", \"landcolor\": \"#E5ECF6\", \"showlakes\": true, \"showland\": true, \"subunitcolor\": \"white\"}, \"hoverlabel\": {\"align\": \"left\"}, \"hovermode\": \"closest\", \"mapbox\": {\"style\": \"light\"}, \"paper_bgcolor\": \"white\", \"plot_bgcolor\": \"#E5ECF6\", \"polar\": {\"angularaxis\": {\"gridcolor\": \"white\", \"linecolor\": \"white\", \"ticks\": \"\"}, \"bgcolor\": \"#E5ECF6\", \"radialaxis\": {\"gridcolor\": \"white\", \"linecolor\": \"white\", \"ticks\": \"\"}}, \"scene\": {\"xaxis\": {\"backgroundcolor\": \"#E5ECF6\", \"gridcolor\": \"white\", \"gridwidth\": 2, \"linecolor\": \"white\", \"showbackground\": true, \"ticks\": \"\", \"zerolinecolor\": \"white\"}, \"yaxis\": {\"backgroundcolor\": \"#E5ECF6\", \"gridcolor\": \"white\", \"gridwidth\": 2, \"linecolor\": \"white\", \"showbackground\": true, \"ticks\": \"\", \"zerolinecolor\": \"white\"}, \"zaxis\": {\"backgroundcolor\": \"#E5ECF6\", \"gridcolor\": \"white\", \"gridwidth\": 2, \"linecolor\": \"white\", \"showbackground\": true, \"ticks\": \"\", \"zerolinecolor\": \"white\"}}, \"shapedefaults\": {\"line\": {\"color\": \"#2a3f5f\"}}, \"ternary\": {\"aaxis\": {\"gridcolor\": \"white\", \"linecolor\": \"white\", \"ticks\": \"\"}, \"baxis\": {\"gridcolor\": \"white\", \"linecolor\": \"white\", \"ticks\": \"\"}, \"bgcolor\": \"#E5ECF6\", \"caxis\": {\"gridcolor\": \"white\", \"linecolor\": \"white\", \"ticks\": \"\"}}, \"title\": {\"x\": 0.05}, \"xaxis\": {\"automargin\": true, \"gridcolor\": \"white\", \"linecolor\": \"white\", \"ticks\": \"\", \"title\": {\"standoff\": 15}, \"zerolinecolor\": \"white\", \"zerolinewidth\": 2}, \"yaxis\": {\"automargin\": true, \"gridcolor\": \"white\", \"linecolor\": \"white\", \"ticks\": \"\", \"title\": {\"standoff\": 15}, \"zerolinecolor\": \"white\", \"zerolinewidth\": 2}}}, \"xaxis\": {\"anchor\": \"y\", \"domain\": [0.0, 1.0], \"title\": {\"text\": \"hours\"}}, \"yaxis\": {\"anchor\": \"x\", \"domain\": [0.0, 1.0], \"title\": {\"text\": \"mins\"}}},\n",
              "                        {\"responsive\": true}\n",
              "                    ).then(function(){\n",
              "                            \n",
              "var gd = document.getElementById('918dc1df-dd4f-4969-80cc-27ab3e906342');\n",
              "var x = new MutationObserver(function (mutations, observer) {{\n",
              "        var display = window.getComputedStyle(gd).display;\n",
              "        if (!display || display === 'none') {{\n",
              "            console.log([gd, 'removed!']);\n",
              "            Plotly.purge(gd);\n",
              "            observer.disconnect();\n",
              "        }}\n",
              "}});\n",
              "\n",
              "// Listen for the removal of the full notebook cells\n",
              "var notebookContainer = gd.closest('#notebook-container');\n",
              "if (notebookContainer) {{\n",
              "    x.observe(notebookContainer, {childList: true});\n",
              "}}\n",
              "\n",
              "// Listen for the clearing of the current output cell\n",
              "var outputEl = gd.closest('.output');\n",
              "if (outputEl) {{\n",
              "    x.observe(outputEl, {childList: true});\n",
              "}}\n",
              "\n",
              "                        })\n",
              "                };\n",
              "                \n",
              "            </script>\n",
              "        </div>\n",
              "</body>\n",
              "</html>"
            ]
          },
          "metadata": {
            "tags": []
          }
        }
      ]
    },
    {
      "cell_type": "code",
      "metadata": {
        "id": "LtP_miRHwys3",
        "colab_type": "code",
        "outputId": "ea7b7c9f-0c21-4fd3-8875-420f25840f9b",
        "colab": {
          "base_uri": "https://localhost:8080/",
          "height": 1000
        }
      },
      "source": [
        "print(len(test))\n",
        "test"
      ],
      "execution_count": 0,
      "outputs": [
        {
          "output_type": "stream",
          "text": [
            "143\n"
          ],
          "name": "stdout"
        },
        {
          "output_type": "execute_result",
          "data": {
            "text/plain": [
              "['Mon Mar 30 19:29:51 +0000 2020',\n",
              " 'Mon Mar 30 19:25:29 +0000 2020',\n",
              " 'Mon Mar 30 18:55:36 +0000 2020',\n",
              " 'Mon Mar 30 17:46:15 +0000 2020',\n",
              " 'Mon Mar 30 17:16:04 +0000 2020',\n",
              " 'Mon Mar 30 15:25:03 +0000 2020',\n",
              " 'Mon Mar 30 15:17:07 +0000 2020',\n",
              " 'Mon Mar 30 14:13:33 +0000 2020',\n",
              " 'Mon Mar 30 14:03:27 +0000 2020',\n",
              " 'Mon Mar 30 12:03:43 +0000 2020',\n",
              " 'Mon Mar 30 11:57:33 +0000 2020',\n",
              " 'Mon Mar 30 11:56:01 +0000 2020',\n",
              " 'Mon Mar 30 11:24:29 +0000 2020',\n",
              " 'Mon Mar 30 11:21:37 +0000 2020',\n",
              " 'Mon Mar 30 10:52:19 +0000 2020',\n",
              " 'Mon Mar 30 10:43:29 +0000 2020',\n",
              " 'Mon Mar 30 10:38:35 +0000 2020',\n",
              " 'Mon Mar 30 10:27:51 +0000 2020',\n",
              " 'Mon Mar 30 10:25:42 +0000 2020',\n",
              " 'Mon Mar 30 10:16:16 +0000 2020',\n",
              " 'Mon Mar 30 20:30:02 +0000 2020',\n",
              " 'Mon Mar 30 20:23:44 +0000 2020',\n",
              " 'Mon Mar 30 19:18:53 +0000 2020',\n",
              " 'Mon Mar 30 17:54:41 +0000 2020',\n",
              " 'Mon Mar 30 17:53:30 +0000 2020',\n",
              " 'Mon Mar 30 17:37:17 +0000 2020',\n",
              " 'Mon Mar 30 15:10:24 +0000 2020',\n",
              " 'Mon Mar 30 14:39:39 +0000 2020',\n",
              " 'Mon Mar 30 13:24:09 +0000 2020',\n",
              " 'Mon Mar 30 13:20:01 +0000 2020',\n",
              " 'Mon Mar 30 13:15:54 +0000 2020',\n",
              " 'Mon Mar 30 13:07:09 +0000 2020',\n",
              " 'Mon Mar 30 12:09:59 +0000 2020',\n",
              " 'Mon Mar 30 09:36:08 +0000 2020',\n",
              " 'Mon Mar 30 09:30:26 +0000 2020',\n",
              " 'Mon Mar 30 09:20:51 +0000 2020',\n",
              " 'Mon Mar 30 06:17:54 +0000 2020',\n",
              " 'Mon Mar 30 05:39:47 +0000 2020',\n",
              " 'Mon Mar 30 02:14:40 +0000 2020',\n",
              " 'Mon Mar 30 00:21:15 +0000 2020',\n",
              " 'Mon Mar 30 13:18:54 +0000 2020',\n",
              " 'Mon Mar 30 13:18:24 +0000 2020',\n",
              " 'Mon Mar 30 13:14:33 +0000 2020',\n",
              " 'Mon Mar 30 11:41:56 +0000 2020',\n",
              " 'Mon Mar 30 07:14:08 +0000 2020',\n",
              " 'Mon Mar 30 07:01:42 +0000 2020',\n",
              " 'Mon Mar 30 06:17:54 +0000 2020',\n",
              " 'Mon Mar 30 05:41:07 +0000 2020',\n",
              " 'Mon Mar 30 04:47:50 +0000 2020',\n",
              " 'Mon Mar 30 00:02:00 +0000 2020',\n",
              " 'Sun Mar 29 22:50:29 +0000 2020',\n",
              " 'Sun Mar 29 22:16:06 +0000 2020',\n",
              " 'Sun Mar 29 22:00:54 +0000 2020',\n",
              " 'Sun Mar 29 21:59:20 +0000 2020',\n",
              " 'Sun Mar 29 21:52:00 +0000 2020',\n",
              " 'Sun Mar 29 21:37:29 +0000 2020',\n",
              " 'Sun Mar 29 21:13:45 +0000 2020',\n",
              " 'Sun Mar 29 21:08:33 +0000 2020',\n",
              " 'Sun Mar 29 20:37:01 +0000 2020',\n",
              " 'Wed Mar 25 12:11:56 +0000 2020',\n",
              " 'Wed Mar 25 01:43:42 +0000 2020',\n",
              " 'Fri Mar 06 06:43:04 +0000 2020',\n",
              " 'Fri Mar 06 00:14:20 +0000 2020',\n",
              " 'Thu Mar 05 13:57:17 +0000 2020',\n",
              " 'Thu Mar 05 12:18:24 +0000 2020',\n",
              " 'Wed Mar 04 07:05:17 +0000 2020',\n",
              " 'Tue Mar 03 00:50:59 +0000 2020',\n",
              " 'Mon Mar 02 06:44:55 +0000 2020',\n",
              " 'Mon Mar 02 06:44:40 +0000 2020',\n",
              " 'Mon Mar 02 06:44:07 +0000 2020',\n",
              " 'Mon Mar 02 06:42:47 +0000 2020',\n",
              " 'Mon Mar 02 06:41:31 +0000 2020',\n",
              " 'Mon Mar 02 06:41:12 +0000 2020',\n",
              " 'Mon Mar 02 06:40:56 +0000 2020',\n",
              " 'Mon Mar 02 06:38:41 +0000 2020',\n",
              " 'Mon Mar 02 06:38:20 +0000 2020',\n",
              " 'Thu Feb 27 08:00:51 +0000 2020',\n",
              " 'Thu Feb 27 01:54:18 +0000 2020',\n",
              " 'Wed Feb 26 13:39:30 +0000 2020',\n",
              " 'Mon Mar 30 21:51:41 +0000 2020',\n",
              " 'Mon Mar 30 21:48:20 +0000 2020',\n",
              " 'Mon Mar 30 20:16:54 +0000 2020',\n",
              " 'Mon Mar 30 19:50:17 +0000 2020',\n",
              " 'Mon Mar 30 18:03:19 +0000 2020',\n",
              " 'Mon Mar 30 01:59:19 +0000 2020',\n",
              " 'Sun Mar 29 19:07:13 +0000 2020',\n",
              " 'Sun Mar 29 15:26:24 +0000 2020',\n",
              " 'Sun Mar 29 08:49:49 +0000 2020',\n",
              " 'Sun Mar 29 08:24:26 +0000 2020',\n",
              " 'Sun Mar 29 04:04:10 +0000 2020',\n",
              " 'Sun Mar 29 03:59:54 +0000 2020',\n",
              " 'Sun Mar 29 03:04:14 +0000 2020',\n",
              " 'Sun Mar 29 01:52:30 +0000 2020',\n",
              " 'Sun Mar 29 01:52:10 +0000 2020',\n",
              " 'Sun Mar 29 01:34:13 +0000 2020',\n",
              " 'Sun Mar 29 01:06:59 +0000 2020',\n",
              " 'Sat Mar 28 21:45:02 +0000 2020',\n",
              " 'Sat Mar 28 21:08:55 +0000 2020',\n",
              " 'Sat Mar 28 19:13:20 +0000 2020',\n",
              " 'Thu Mar 28 19:27:00 +0000 2019',\n",
              " 'Wed Mar 20 14:02:54 +0000 2019',\n",
              " 'Wed Dec 12 18:10:03 +0000 2018',\n",
              " 'Wed Dec 12 17:50:13 +0000 2018',\n",
              " 'Mon Mar 30 19:25:39 +0000 2020',\n",
              " 'Sat Mar 28 00:14:49 +0000 2020',\n",
              " 'Fri Mar 27 15:08:08 +0000 2020',\n",
              " 'Thu Mar 26 19:07:01 +0000 2020',\n",
              " 'Mon Mar 23 20:40:58 +0000 2020',\n",
              " 'Sun Mar 22 20:53:32 +0000 2020',\n",
              " 'Fri Mar 20 14:57:03 +0000 2020',\n",
              " 'Fri Mar 20 14:45:40 +0000 2020',\n",
              " 'Fri Mar 20 08:32:00 +0000 2020',\n",
              " 'Thu Mar 19 12:40:27 +0000 2020',\n",
              " 'Fri Mar 13 20:01:17 +0000 2020',\n",
              " 'Fri Mar 13 16:54:25 +0000 2020',\n",
              " 'Thu Mar 12 04:29:51 +0000 2020',\n",
              " 'Wed Mar 11 14:43:43 +0000 2020',\n",
              " 'Wed Mar 11 13:27:44 +0000 2020',\n",
              " 'Wed Mar 11 12:28:02 +0000 2020',\n",
              " 'Wed Mar 11 00:24:17 +0000 2020',\n",
              " 'Tue Mar 10 21:08:17 +0000 2020',\n",
              " 'Tue Mar 10 19:09:56 +0000 2020',\n",
              " 'Tue Mar 10 18:14:47 +0000 2020',\n",
              " 'Mon Mar 30 20:58:43 +0000 2020',\n",
              " 'Mon Mar 30 20:52:31 +0000 2020',\n",
              " 'Mon Mar 30 20:03:13 +0000 2020',\n",
              " 'Mon Mar 30 19:41:31 +0000 2020',\n",
              " 'Mon Mar 30 18:33:00 +0000 2020',\n",
              " 'Mon Mar 30 18:30:09 +0000 2020',\n",
              " 'Mon Mar 30 18:28:35 +0000 2020',\n",
              " 'Mon Mar 30 18:23:31 +0000 2020',\n",
              " 'Mon Mar 30 18:12:58 +0000 2020',\n",
              " 'Mon Mar 30 18:12:45 +0000 2020',\n",
              " 'Mon Mar 30 17:53:30 +0000 2020',\n",
              " 'Mon Mar 30 17:00:21 +0000 2020',\n",
              " 'Mon Mar 30 16:57:36 +0000 2020',\n",
              " 'Mon Mar 30 16:56:50 +0000 2020',\n",
              " 'Mon Mar 30 16:55:51 +0000 2020',\n",
              " 'Mon Mar 30 16:38:57 +0000 2020',\n",
              " 'Mon Mar 30 16:09:44 +0000 2020',\n",
              " 'Mon Mar 30 16:09:41 +0000 2020',\n",
              " 'Mon Mar 30 15:19:26 +0000 2020',\n",
              " 'Mon Mar 30 14:44:29 +0000 2020']"
            ]
          },
          "metadata": {
            "tags": []
          },
          "execution_count": 21
        }
      ]
    },
    {
      "cell_type": "code",
      "metadata": {
        "id": "-kz32Rl8wys6",
        "colab_type": "code",
        "outputId": "5dc8c643-89c4-4b47-8e72-a7b467a980d6",
        "colab": {
          "base_uri": "https://localhost:8080/",
          "height": 1000
        }
      },
      "source": [
        "_list = [i[11:19] for i in test]\n",
        "_list"
      ],
      "execution_count": 0,
      "outputs": [
        {
          "output_type": "execute_result",
          "data": {
            "text/plain": [
              "['19:29:51',\n",
              " '19:25:29',\n",
              " '18:55:36',\n",
              " '17:46:15',\n",
              " '17:16:04',\n",
              " '15:25:03',\n",
              " '15:17:07',\n",
              " '14:13:33',\n",
              " '14:03:27',\n",
              " '12:03:43',\n",
              " '11:57:33',\n",
              " '11:56:01',\n",
              " '11:24:29',\n",
              " '11:21:37',\n",
              " '10:52:19',\n",
              " '10:43:29',\n",
              " '10:38:35',\n",
              " '10:27:51',\n",
              " '10:25:42',\n",
              " '10:16:16',\n",
              " '20:30:02',\n",
              " '20:23:44',\n",
              " '19:18:53',\n",
              " '17:54:41',\n",
              " '17:53:30',\n",
              " '17:37:17',\n",
              " '15:10:24',\n",
              " '14:39:39',\n",
              " '13:24:09',\n",
              " '13:20:01',\n",
              " '13:15:54',\n",
              " '13:07:09',\n",
              " '12:09:59',\n",
              " '09:36:08',\n",
              " '09:30:26',\n",
              " '09:20:51',\n",
              " '06:17:54',\n",
              " '05:39:47',\n",
              " '02:14:40',\n",
              " '00:21:15',\n",
              " '13:18:54',\n",
              " '13:18:24',\n",
              " '13:14:33',\n",
              " '11:41:56',\n",
              " '07:14:08',\n",
              " '07:01:42',\n",
              " '06:17:54',\n",
              " '05:41:07',\n",
              " '04:47:50',\n",
              " '00:02:00',\n",
              " '22:50:29',\n",
              " '22:16:06',\n",
              " '22:00:54',\n",
              " '21:59:20',\n",
              " '21:52:00',\n",
              " '21:37:29',\n",
              " '21:13:45',\n",
              " '21:08:33',\n",
              " '20:37:01',\n",
              " '12:11:56',\n",
              " '01:43:42',\n",
              " '06:43:04',\n",
              " '00:14:20',\n",
              " '13:57:17',\n",
              " '12:18:24',\n",
              " '07:05:17',\n",
              " '00:50:59',\n",
              " '06:44:55',\n",
              " '06:44:40',\n",
              " '06:44:07',\n",
              " '06:42:47',\n",
              " '06:41:31',\n",
              " '06:41:12',\n",
              " '06:40:56',\n",
              " '06:38:41',\n",
              " '06:38:20',\n",
              " '08:00:51',\n",
              " '01:54:18',\n",
              " '13:39:30',\n",
              " '21:51:41',\n",
              " '21:48:20',\n",
              " '20:16:54',\n",
              " '19:50:17',\n",
              " '18:03:19',\n",
              " '01:59:19',\n",
              " '19:07:13',\n",
              " '15:26:24',\n",
              " '08:49:49',\n",
              " '08:24:26',\n",
              " '04:04:10',\n",
              " '03:59:54',\n",
              " '03:04:14',\n",
              " '01:52:30',\n",
              " '01:52:10',\n",
              " '01:34:13',\n",
              " '01:06:59',\n",
              " '21:45:02',\n",
              " '21:08:55',\n",
              " '19:13:20',\n",
              " '19:27:00',\n",
              " '14:02:54',\n",
              " '18:10:03',\n",
              " '17:50:13',\n",
              " '19:25:39',\n",
              " '00:14:49',\n",
              " '15:08:08',\n",
              " '19:07:01',\n",
              " '20:40:58',\n",
              " '20:53:32',\n",
              " '14:57:03',\n",
              " '14:45:40',\n",
              " '08:32:00',\n",
              " '12:40:27',\n",
              " '20:01:17',\n",
              " '16:54:25',\n",
              " '04:29:51',\n",
              " '14:43:43',\n",
              " '13:27:44',\n",
              " '12:28:02',\n",
              " '00:24:17',\n",
              " '21:08:17',\n",
              " '19:09:56',\n",
              " '18:14:47',\n",
              " '20:58:43',\n",
              " '20:52:31',\n",
              " '20:03:13',\n",
              " '19:41:31',\n",
              " '18:33:00',\n",
              " '18:30:09',\n",
              " '18:28:35',\n",
              " '18:23:31',\n",
              " '18:12:58',\n",
              " '18:12:45',\n",
              " '17:53:30',\n",
              " '17:00:21',\n",
              " '16:57:36',\n",
              " '16:56:50',\n",
              " '16:55:51',\n",
              " '16:38:57',\n",
              " '16:09:44',\n",
              " '16:09:41',\n",
              " '15:19:26',\n",
              " '14:44:29']"
            ]
          },
          "metadata": {
            "tags": []
          },
          "execution_count": 22
        }
      ]
    },
    {
      "cell_type": "code",
      "metadata": {
        "id": "GmwQA2Vcwys_",
        "colab_type": "code",
        "outputId": "e9f55bd9-97b1-47f1-e5a4-acdb610e61a4",
        "colab": {
          "base_uri": "https://localhost:8080/",
          "height": 35
        }
      },
      "source": [
        "# Len - remember, we won't have a perfect 200 (20 liked times x 10 users) because we are skipping\n",
        "# the information that is protected\n",
        "\n",
        "len(test)"
      ],
      "execution_count": 0,
      "outputs": [
        {
          "output_type": "execute_result",
          "data": {
            "text/plain": [
              "143"
            ]
          },
          "metadata": {
            "tags": []
          },
          "execution_count": 23
        }
      ]
    },
    {
      "cell_type": "code",
      "metadata": {
        "id": "eFTwggkJwytD",
        "colab_type": "code",
        "colab": {}
      },
      "source": [
        "test"
      ],
      "execution_count": 0,
      "outputs": []
    },
    {
      "cell_type": "code",
      "metadata": {
        "id": "5OIyb85GwytG",
        "colab_type": "code",
        "outputId": "0dd0f41f-06b1-4902-c930-874714023f04",
        "colab": {
          "base_uri": "https://localhost:8080/",
          "height": 171
        }
      },
      "source": [
        "type(favorited_tweets)"
      ],
      "execution_count": 0,
      "outputs": [
        {
          "output_type": "error",
          "ename": "NameError",
          "evalue": "ignored",
          "traceback": [
            "\u001b[0;31m---------------------------------------------------------------------------\u001b[0m",
            "\u001b[0;31mNameError\u001b[0m                                 Traceback (most recent call last)",
            "\u001b[0;32m<ipython-input-24-d9d70ea38110>\u001b[0m in \u001b[0;36m<module>\u001b[0;34m()\u001b[0m\n\u001b[0;32m----> 1\u001b[0;31m \u001b[0mtype\u001b[0m\u001b[0;34m(\u001b[0m\u001b[0mfavorited_tweets\u001b[0m\u001b[0;34m)\u001b[0m\u001b[0;34m\u001b[0m\u001b[0;34m\u001b[0m\u001b[0m\n\u001b[0m",
            "\u001b[0;31mNameError\u001b[0m: name 'favorited_tweets' is not defined"
          ]
        }
      ]
    },
    {
      "cell_type": "code",
      "metadata": {
        "id": "kLElK6mPwytJ",
        "colab_type": "code",
        "colab": {}
      },
      "source": [
        "l = []\n",
        "for followers in chris_follower_ids[:20]:\n",
        "    favorited_tweets = api.favorites(id=f'{followers}')\n",
        "    for tweet in range(len(favorited_tweets)):\n",
        "        status = favorited_tweets[tweet]\n",
        "\n",
        "        #convert to string\n",
        "        json_str = json.dumps(status._json)\n",
        "\n",
        "        #deserialise string into python object\n",
        "        parsed = json.loads(json_str)\n",
        "        l.append(parsed.get('created_at'))"
      ],
      "execution_count": 0,
      "outputs": []
    },
    {
      "cell_type": "code",
      "metadata": {
        "id": "hAXqVotuwytM",
        "colab_type": "code",
        "colab": {}
      },
      "source": [
        "len(l)"
      ],
      "execution_count": 0,
      "outputs": []
    },
    {
      "cell_type": "code",
      "metadata": {
        "id": "NIdWUAqOwytQ",
        "colab_type": "code",
        "colab": {}
      },
      "source": [
        "public_tweets = api.followers('chrisalbon')\n",
        "# for tweet in public_tweets:\n",
        "#     print(tweet)\n",
        "\n",
        "import json \n",
        "for tweet in range(len(public_tweets)):\n",
        "    status = public_tweets[tweet]\n",
        "\n",
        "    #convert to string\n",
        "    json_str = json.dumps(status._json)\n",
        "\n",
        "    #deserialise string into python object\n",
        "    parsed = json.loads(json_str)\n",
        "    \n",
        "    l.append(parsed)\n",
        "#     print(json.dumps(parsed, indent=4, sort_keys=True))"
      ],
      "execution_count": 0,
      "outputs": []
    },
    {
      "cell_type": "code",
      "metadata": {
        "id": "Z20oTAKywytU",
        "colab_type": "code",
        "colab": {}
      },
      "source": [
        "len(l)"
      ],
      "execution_count": 0,
      "outputs": []
    },
    {
      "cell_type": "code",
      "metadata": {
        "id": "vhxL9QJMwytX",
        "colab_type": "code",
        "colab": {}
      },
      "source": [
        "def list_of_followers(list):\n",
        "    x = []\n",
        "    for i in list:\n",
        "        y = dict(i).get('screen_name')\n",
        "        x.append(y)"
      ],
      "execution_count": 0,
      "outputs": []
    },
    {
      "cell_type": "code",
      "metadata": {
        "id": "JKkg0Mc9wytc",
        "colab_type": "code",
        "colab": {}
      },
      "source": [
        "list_of_followers(l)"
      ],
      "execution_count": 0,
      "outputs": []
    },
    {
      "cell_type": "code",
      "metadata": {
        "id": "ktRXF1K2wytj",
        "colab_type": "code",
        "colab": {}
      },
      "source": [
        ""
      ],
      "execution_count": 0,
      "outputs": []
    },
    {
      "cell_type": "code",
      "metadata": {
        "id": "4Bsg5xy7wytn",
        "colab_type": "code",
        "colab": {}
      },
      "source": [
        ""
      ],
      "execution_count": 0,
      "outputs": []
    },
    {
      "cell_type": "code",
      "metadata": {
        "id": "p2idGz3_wytq",
        "colab_type": "code",
        "colab": {}
      },
      "source": [
        ""
      ],
      "execution_count": 0,
      "outputs": []
    }
  ]
}